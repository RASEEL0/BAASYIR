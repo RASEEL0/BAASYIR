{
  "cells": [
    {
      "cell_type": "markdown",
      "metadata": {
        "id": "4wMQgnZZ3ZcK"
      },
      "source": [
        "# clone git hub yolov7 filess"
      ]
    },
    {
      "cell_type": "code",
      "execution_count": 2,
      "metadata": {
        "colab": {
          "base_uri": "https://localhost:8080/"
        },
        "id": "0latvAqHBEEp",
        "outputId": "e3ac4970-ccc9-487a-c811-f3c82460f2f5"
      },
      "outputs": [
        {
          "name": "stdout",
          "output_type": "stream",
          "text": [
            "fatal: destination path 'yolov7' already exists and is not an empty directory.\n"
          ]
        }
      ],
      "source": [
        "\n",
        "!git clone https://github.com/WongKinYiu/yolov7.git"
      ]
    },
    {
      "cell_type": "markdown",
      "metadata": {},
      "source": [
        "# open cloned yolov7 file and Install dependencies for YOLOv7"
      ]
    },
    {
      "cell_type": "code",
      "execution_count": 3,
      "metadata": {
        "colab": {
          "base_uri": "https://localhost:8080/"
        },
        "id": "gBHTzxxXBHBK",
        "outputId": "9f68ae0a-2f79-422d-c172-0c68a4f4e7b5"
      },
      "outputs": [
        {
          "name": "stdout",
          "output_type": "stream",
          "text": [
            "/Users/raseel/Downloads/YOLOv7\n"
          ]
        }
      ],
      "source": [
        "%cd yolov7"
      ]
    },
    {
      "cell_type": "markdown",
      "metadata": {},
      "source": [
        "Install dependencies for YOLOv7"
      ]
    },
    {
      "cell_type": "code",
      "execution_count": 4,
      "metadata": {
        "colab": {
          "base_uri": "https://localhost:8080/"
        },
        "id": "A1IPH1elBKdt",
        "outputId": "f1f9d002-e612-49f7-b653-26db4c1aa02a"
      },
      "outputs": [
        {
          "name": "stdout",
          "output_type": "stream",
          "text": [
            "Requirement already satisfied: matplotlib>=3.2.2 in /Users/raseel/anaconda3/envs/baasyir/lib/python3.11/site-packages (from -r requirements.txt (line 4)) (3.8.2)\n",
            "Requirement already satisfied: numpy<1.24.0,>=1.18.5 in /Users/raseel/anaconda3/envs/baasyir/lib/python3.11/site-packages (from -r requirements.txt (line 5)) (1.23.5)\n",
            "Requirement already satisfied: opencv-python>=4.1.1 in /Users/raseel/anaconda3/envs/baasyir/lib/python3.11/site-packages (from -r requirements.txt (line 6)) (4.9.0.80)\n",
            "Requirement already satisfied: Pillow>=7.1.2 in /Users/raseel/anaconda3/envs/baasyir/lib/python3.11/site-packages (from -r requirements.txt (line 7)) (10.2.0)\n",
            "Requirement already satisfied: PyYAML>=5.3.1 in /Users/raseel/anaconda3/envs/baasyir/lib/python3.11/site-packages (from -r requirements.txt (line 8)) (6.0.1)\n",
            "Requirement already satisfied: requests>=2.23.0 in /Users/raseel/anaconda3/envs/baasyir/lib/python3.11/site-packages (from -r requirements.txt (line 9)) (2.31.0)\n",
            "Requirement already satisfied: scipy>=1.4.1 in /Users/raseel/anaconda3/envs/baasyir/lib/python3.11/site-packages (from -r requirements.txt (line 10)) (1.12.0)\n",
            "Requirement already satisfied: torch!=1.12.0,>=1.7.0 in /Users/raseel/anaconda3/envs/baasyir/lib/python3.11/site-packages (from -r requirements.txt (line 11)) (2.2.0)\n",
            "Requirement already satisfied: torchvision!=0.13.0,>=0.8.1 in /Users/raseel/anaconda3/envs/baasyir/lib/python3.11/site-packages (from -r requirements.txt (line 12)) (0.17.0)\n",
            "Requirement already satisfied: tqdm>=4.41.0 in /Users/raseel/anaconda3/envs/baasyir/lib/python3.11/site-packages (from -r requirements.txt (line 13)) (4.66.1)\n",
            "Requirement already satisfied: protobuf<4.21.3 in /Users/raseel/anaconda3/envs/baasyir/lib/python3.11/site-packages (from -r requirements.txt (line 14)) (4.21.2)\n",
            "Requirement already satisfied: tensorboard>=2.4.1 in /Users/raseel/anaconda3/envs/baasyir/lib/python3.11/site-packages (from -r requirements.txt (line 17)) (2.15.1)\n",
            "Requirement already satisfied: pandas>=1.1.4 in /Users/raseel/anaconda3/envs/baasyir/lib/python3.11/site-packages (from -r requirements.txt (line 21)) (2.2.0)\n",
            "Requirement already satisfied: seaborn>=0.11.0 in /Users/raseel/anaconda3/envs/baasyir/lib/python3.11/site-packages (from -r requirements.txt (line 22)) (0.13.2)\n",
            "Requirement already satisfied: ipython in /Users/raseel/anaconda3/envs/baasyir/lib/python3.11/site-packages (from -r requirements.txt (line 34)) (8.21.0)\n",
            "Requirement already satisfied: psutil in /Users/raseel/anaconda3/envs/baasyir/lib/python3.11/site-packages (from -r requirements.txt (line 35)) (5.9.8)\n",
            "Requirement already satisfied: thop in /Users/raseel/anaconda3/envs/baasyir/lib/python3.11/site-packages (from -r requirements.txt (line 36)) (0.1.1.post2209072238)\n",
            "Requirement already satisfied: contourpy>=1.0.1 in /Users/raseel/anaconda3/envs/baasyir/lib/python3.11/site-packages (from matplotlib>=3.2.2->-r requirements.txt (line 4)) (1.2.0)\n",
            "Requirement already satisfied: cycler>=0.10 in /Users/raseel/anaconda3/envs/baasyir/lib/python3.11/site-packages (from matplotlib>=3.2.2->-r requirements.txt (line 4)) (0.12.1)\n",
            "Requirement already satisfied: fonttools>=4.22.0 in /Users/raseel/anaconda3/envs/baasyir/lib/python3.11/site-packages (from matplotlib>=3.2.2->-r requirements.txt (line 4)) (4.47.2)\n",
            "Requirement already satisfied: kiwisolver>=1.3.1 in /Users/raseel/anaconda3/envs/baasyir/lib/python3.11/site-packages (from matplotlib>=3.2.2->-r requirements.txt (line 4)) (1.4.5)\n",
            "Requirement already satisfied: packaging>=20.0 in /Users/raseel/anaconda3/envs/baasyir/lib/python3.11/site-packages (from matplotlib>=3.2.2->-r requirements.txt (line 4)) (23.2)\n",
            "Requirement already satisfied: pyparsing>=2.3.1 in /Users/raseel/anaconda3/envs/baasyir/lib/python3.11/site-packages (from matplotlib>=3.2.2->-r requirements.txt (line 4)) (3.1.1)\n",
            "Requirement already satisfied: python-dateutil>=2.7 in /Users/raseel/anaconda3/envs/baasyir/lib/python3.11/site-packages (from matplotlib>=3.2.2->-r requirements.txt (line 4)) (2.8.2)\n",
            "Requirement already satisfied: charset-normalizer<4,>=2 in /Users/raseel/anaconda3/envs/baasyir/lib/python3.11/site-packages (from requests>=2.23.0->-r requirements.txt (line 9)) (3.3.2)\n",
            "Requirement already satisfied: idna<4,>=2.5 in /Users/raseel/anaconda3/envs/baasyir/lib/python3.11/site-packages (from requests>=2.23.0->-r requirements.txt (line 9)) (3.6)\n",
            "Requirement already satisfied: urllib3<3,>=1.21.1 in /Users/raseel/anaconda3/envs/baasyir/lib/python3.11/site-packages (from requests>=2.23.0->-r requirements.txt (line 9)) (2.2.0)\n",
            "Requirement already satisfied: certifi>=2017.4.17 in /Users/raseel/anaconda3/envs/baasyir/lib/python3.11/site-packages (from requests>=2.23.0->-r requirements.txt (line 9)) (2023.11.17)\n",
            "Requirement already satisfied: filelock in /Users/raseel/anaconda3/envs/baasyir/lib/python3.11/site-packages (from torch!=1.12.0,>=1.7.0->-r requirements.txt (line 11)) (3.13.1)\n",
            "Requirement already satisfied: typing-extensions>=4.8.0 in /Users/raseel/anaconda3/envs/baasyir/lib/python3.11/site-packages (from torch!=1.12.0,>=1.7.0->-r requirements.txt (line 11)) (4.9.0)\n",
            "Requirement already satisfied: sympy in /Users/raseel/anaconda3/envs/baasyir/lib/python3.11/site-packages (from torch!=1.12.0,>=1.7.0->-r requirements.txt (line 11)) (1.12)\n",
            "Requirement already satisfied: networkx in /Users/raseel/anaconda3/envs/baasyir/lib/python3.11/site-packages (from torch!=1.12.0,>=1.7.0->-r requirements.txt (line 11)) (3.2.1)\n",
            "Requirement already satisfied: jinja2 in /Users/raseel/anaconda3/envs/baasyir/lib/python3.11/site-packages (from torch!=1.12.0,>=1.7.0->-r requirements.txt (line 11)) (3.1.3)\n",
            "Requirement already satisfied: fsspec in /Users/raseel/anaconda3/envs/baasyir/lib/python3.11/site-packages (from torch!=1.12.0,>=1.7.0->-r requirements.txt (line 11)) (2023.12.2)\n",
            "Requirement already satisfied: absl-py>=0.4 in /Users/raseel/anaconda3/envs/baasyir/lib/python3.11/site-packages (from tensorboard>=2.4.1->-r requirements.txt (line 17)) (2.1.0)\n",
            "Requirement already satisfied: grpcio>=1.48.2 in /Users/raseel/anaconda3/envs/baasyir/lib/python3.11/site-packages (from tensorboard>=2.4.1->-r requirements.txt (line 17)) (1.60.0)\n",
            "Requirement already satisfied: google-auth<3,>=1.6.3 in /Users/raseel/anaconda3/envs/baasyir/lib/python3.11/site-packages (from tensorboard>=2.4.1->-r requirements.txt (line 17)) (2.27.0)\n",
            "Requirement already satisfied: google-auth-oauthlib<2,>=0.5 in /Users/raseel/anaconda3/envs/baasyir/lib/python3.11/site-packages (from tensorboard>=2.4.1->-r requirements.txt (line 17)) (1.2.0)\n",
            "Requirement already satisfied: markdown>=2.6.8 in /Users/raseel/anaconda3/envs/baasyir/lib/python3.11/site-packages (from tensorboard>=2.4.1->-r requirements.txt (line 17)) (3.5.2)\n",
            "Requirement already satisfied: setuptools>=41.0.0 in /Users/raseel/anaconda3/envs/baasyir/lib/python3.11/site-packages (from tensorboard>=2.4.1->-r requirements.txt (line 17)) (68.2.2)\n",
            "Requirement already satisfied: six>1.9 in /Users/raseel/anaconda3/envs/baasyir/lib/python3.11/site-packages (from tensorboard>=2.4.1->-r requirements.txt (line 17)) (1.16.0)\n",
            "Requirement already satisfied: tensorboard-data-server<0.8.0,>=0.7.0 in /Users/raseel/anaconda3/envs/baasyir/lib/python3.11/site-packages (from tensorboard>=2.4.1->-r requirements.txt (line 17)) (0.7.2)\n",
            "Requirement already satisfied: werkzeug>=1.0.1 in /Users/raseel/anaconda3/envs/baasyir/lib/python3.11/site-packages (from tensorboard>=2.4.1->-r requirements.txt (line 17)) (3.0.1)\n",
            "Requirement already satisfied: pytz>=2020.1 in /Users/raseel/anaconda3/envs/baasyir/lib/python3.11/site-packages (from pandas>=1.1.4->-r requirements.txt (line 21)) (2023.4)\n",
            "Requirement already satisfied: tzdata>=2022.7 in /Users/raseel/anaconda3/envs/baasyir/lib/python3.11/site-packages (from pandas>=1.1.4->-r requirements.txt (line 21)) (2023.4)\n",
            "Requirement already satisfied: decorator in /Users/raseel/anaconda3/envs/baasyir/lib/python3.11/site-packages (from ipython->-r requirements.txt (line 34)) (5.1.1)\n",
            "Requirement already satisfied: jedi>=0.16 in /Users/raseel/anaconda3/envs/baasyir/lib/python3.11/site-packages (from ipython->-r requirements.txt (line 34)) (0.19.1)\n",
            "Requirement already satisfied: matplotlib-inline in /Users/raseel/anaconda3/envs/baasyir/lib/python3.11/site-packages (from ipython->-r requirements.txt (line 34)) (0.1.6)\n",
            "Requirement already satisfied: prompt-toolkit<3.1.0,>=3.0.41 in /Users/raseel/anaconda3/envs/baasyir/lib/python3.11/site-packages (from ipython->-r requirements.txt (line 34)) (3.0.43)\n",
            "Requirement already satisfied: pygments>=2.4.0 in /Users/raseel/anaconda3/envs/baasyir/lib/python3.11/site-packages (from ipython->-r requirements.txt (line 34)) (2.17.2)\n",
            "Requirement already satisfied: stack-data in /Users/raseel/anaconda3/envs/baasyir/lib/python3.11/site-packages (from ipython->-r requirements.txt (line 34)) (0.6.2)\n",
            "Requirement already satisfied: traitlets>=5 in /Users/raseel/anaconda3/envs/baasyir/lib/python3.11/site-packages (from ipython->-r requirements.txt (line 34)) (5.14.1)\n",
            "Requirement already satisfied: pexpect>4.3 in /Users/raseel/anaconda3/envs/baasyir/lib/python3.11/site-packages (from ipython->-r requirements.txt (line 34)) (4.9.0)\n",
            "Requirement already satisfied: cachetools<6.0,>=2.0.0 in /Users/raseel/anaconda3/envs/baasyir/lib/python3.11/site-packages (from google-auth<3,>=1.6.3->tensorboard>=2.4.1->-r requirements.txt (line 17)) (5.3.2)\n",
            "Requirement already satisfied: pyasn1-modules>=0.2.1 in /Users/raseel/anaconda3/envs/baasyir/lib/python3.11/site-packages (from google-auth<3,>=1.6.3->tensorboard>=2.4.1->-r requirements.txt (line 17)) (0.3.0)\n",
            "Requirement already satisfied: rsa<5,>=3.1.4 in /Users/raseel/anaconda3/envs/baasyir/lib/python3.11/site-packages (from google-auth<3,>=1.6.3->tensorboard>=2.4.1->-r requirements.txt (line 17)) (4.9)\n",
            "Requirement already satisfied: requests-oauthlib>=0.7.0 in /Users/raseel/anaconda3/envs/baasyir/lib/python3.11/site-packages (from google-auth-oauthlib<2,>=0.5->tensorboard>=2.4.1->-r requirements.txt (line 17)) (1.3.1)\n",
            "Requirement already satisfied: parso<0.9.0,>=0.8.3 in /Users/raseel/anaconda3/envs/baasyir/lib/python3.11/site-packages (from jedi>=0.16->ipython->-r requirements.txt (line 34)) (0.8.3)\n",
            "Requirement already satisfied: ptyprocess>=0.5 in /Users/raseel/anaconda3/envs/baasyir/lib/python3.11/site-packages (from pexpect>4.3->ipython->-r requirements.txt (line 34)) (0.7.0)\n",
            "Requirement already satisfied: wcwidth in /Users/raseel/anaconda3/envs/baasyir/lib/python3.11/site-packages (from prompt-toolkit<3.1.0,>=3.0.41->ipython->-r requirements.txt (line 34)) (0.2.13)\n",
            "Requirement already satisfied: MarkupSafe>=2.1.1 in /Users/raseel/anaconda3/envs/baasyir/lib/python3.11/site-packages (from werkzeug>=1.0.1->tensorboard>=2.4.1->-r requirements.txt (line 17)) (2.1.4)\n",
            "Requirement already satisfied: executing>=1.2.0 in /Users/raseel/anaconda3/envs/baasyir/lib/python3.11/site-packages (from stack-data->ipython->-r requirements.txt (line 34)) (2.0.1)\n",
            "Requirement already satisfied: asttokens>=2.1.0 in /Users/raseel/anaconda3/envs/baasyir/lib/python3.11/site-packages (from stack-data->ipython->-r requirements.txt (line 34)) (2.4.1)\n",
            "Requirement already satisfied: pure-eval in /Users/raseel/anaconda3/envs/baasyir/lib/python3.11/site-packages (from stack-data->ipython->-r requirements.txt (line 34)) (0.2.2)\n",
            "Requirement already satisfied: mpmath>=0.19 in /Users/raseel/anaconda3/envs/baasyir/lib/python3.11/site-packages (from sympy->torch!=1.12.0,>=1.7.0->-r requirements.txt (line 11)) (1.3.0)\n",
            "Requirement already satisfied: pyasn1<0.6.0,>=0.4.6 in /Users/raseel/anaconda3/envs/baasyir/lib/python3.11/site-packages (from pyasn1-modules>=0.2.1->google-auth<3,>=1.6.3->tensorboard>=2.4.1->-r requirements.txt (line 17)) (0.5.1)\n",
            "Requirement already satisfied: oauthlib>=3.0.0 in /Users/raseel/anaconda3/envs/baasyir/lib/python3.11/site-packages (from requests-oauthlib>=0.7.0->google-auth-oauthlib<2,>=0.5->tensorboard>=2.4.1->-r requirements.txt (line 17)) (3.2.2)\n"
          ]
        }
      ],
      "source": [
        "!pip install -U -r requirements.txt"
      ]
    },
    {
      "cell_type": "markdown",
      "metadata": {},
      "source": [
        "# Real-time object detiction using raspberry pi camera"
      ]
    },
    {
      "cell_type": "code",
      "execution_count": 15,
      "metadata": {
        "colab": {
          "base_uri": "https://localhost:8080/"
        },
        "id": "6-OrnaYRReqH",
        "outputId": "238bc587-e2b7-4de8-b6b3-5534559b0c0d"
      },
      "outputs": [
        {
          "name": "stdout",
          "output_type": "stream",
          "text": [
            "Namespace(weights=['/Users/raseel/Downloads/7/yolov7-BAASYIR.pt'], source='http://192.168.100.41:8081', img_size=640, conf_thres=0.05, iou_thres=0.45, device='cpu', view_img=False, save_txt=False, save_conf=False, nosave=False, classes=None, agnostic_nms=False, augment=False, update=False, project='runs/detect', name='exp', exist_ok=False, no_trace=False)\n",
            "YOLOR 🚀 2023-11-2 torch 2.2.0 CPU\n",
            "\n",
            "Fusing layers... \n",
            "RepConv.fuse_repvgg_block\n",
            "RepConv.fuse_repvgg_block\n",
            "RepConv.fuse_repvgg_block\n",
            "IDetect.fuse\n",
            "/Users/raseel/anaconda3/envs/baasyir/lib/python3.11/site-packages/torch/functional.py:507: UserWarning: torch.meshgrid: in an upcoming release, it will be required to pass the indexing argument. (Triggered internally at /Users/runner/work/pytorch/pytorch/pytorch/aten/src/ATen/native/TensorShape.cpp:3550.)\n",
            "  return _VF.meshgrid(tensors, **kwargs)  # type: ignore[attr-defined]\n",
            "Model Summary: 314 layers, 36708320 parameters, 6194944 gradients, 103.9 GFLOPS\n",
            " Convert model to Traced-model... \n",
            " traced_script_module saved! \n",
            " model is traced! \n",
            "\n",
            "1/1: http://192.168.100.41:8081...  success (640x480 at 25.00 FPS).\n",
            "\n",
            "0: 1 Carpet, 1 Ceramic floor, 1 Sideboard, 1 TV stand, 1 stairs, Done. (2312.8ms) Inference, (2.5ms) NMS\n",
            "0: 1 Carpet, 1 Ceramic floor, 1 Sideboard, 1 TV stand, 1 stairs, Done. (2033.2ms) Inference, (2.3ms) NMS\n",
            "0: 1 Carpet, 1 Ceramic floor, 1 Sideboard, 1 TV stand, 1 stairs, Done. (2140.6ms) Inference, (1.6ms) NMS\n",
            "0: 1 Carpet, 1 Ceramic floor, 1 Sideboard, 1 TV stand, 1 stairs, Done. (2077.9ms) Inference, (2.6ms) NMS\n",
            "0: 1 Carpet, 1 Ceramic floor, 1 Sideboard, 1 TV stand, 1 stairs, Done. (2146.7ms) Inference, (2.4ms) NMS\n",
            "0: 1 Carpet, 1 Ceramic floor, 1 Sideboard, 1 TV stand, 1 stairs, Done. (2037.0ms) Inference, (1.8ms) NMS\n",
            "0: 1 Carpet, 1 Ceramic floor, 1 Sideboard, 1 TV stand, 1 stairs, Done. (2099.3ms) Inference, (1.7ms) NMS\n",
            "0: 1 Carpet, 1 Ceramic floor, 1 Sideboard, 1 TV stand, 1 stairs, Done. (1984.2ms) Inference, (2.1ms) NMS\n",
            "0: 1 Carpet, 1 Ceramic floor, 1 Sideboard, 1 TV stand, 1 stairs, Done. (2102.9ms) Inference, (1.7ms) NMS\n",
            "0: 1 Ceramic floor, 1 Sideboard, 2 TV stands, 1 stairs, Done. (2039.9ms) Inference, (2.1ms) NMS\n",
            "0: 1 Carpet, 1 Ceramic floor, 1 Sideboard, 1 TV stand, Done. (2028.6ms) Inference, (2.2ms) NMS\n",
            "0: 1 Carpet, 1 Ceramic floor, 1 Sideboard, 1 TV stand, Done. (1954.0ms) Inference, (1.7ms) NMS\n",
            "0: 1 Carpet, 1 Ceramic floor, 1 Sideboard, 1 TV stand, Done. (1950.9ms) Inference, (1.5ms) NMS\n",
            "0: 2 Carpets, 1 Ceramic floor, 1 Sideboard, 1 toothbrush, Done. (1886.0ms) Inference, (1.8ms) NMS\n",
            "0: 1 Carpet, 1 Ceramic floor, 1 Sideboard, 1 TV stand, Done. (1822.4ms) Inference, (1.6ms) NMS\n",
            "0: 1 Carpet, 1 Ceramic floor, 1 Sideboard, 1 TV stand, Done. (1819.1ms) Inference, (2.0ms) NMS\n",
            "0: 1 Carpet, 1 Ceramic floor, 1 Sideboard, 1 TV stand, Done. (1850.2ms) Inference, (2.1ms) NMS\n",
            "0: 1 Carpet, 1 Ceramic floor, 1 Sideboard, 2 TV stands, Done. (1870.5ms) Inference, (1.6ms) NMS\n",
            "0: 1 Carpet, 1 Ceramic floor, 1 Sideboard, 2 TV stands, Done. (1851.5ms) Inference, (2.7ms) NMS\n",
            "0: 1 Carpet, 1 Ceramic floor, 1 TV stand, 1 Wooden floor, 1 stairs, Done. (2127.6ms) Inference, (2.0ms) NMS\n",
            "0: 1 Carpet, 1 Ceramic floor, 1 TV stand, 1 Wooden floor, 1 stairs, Done. (1921.6ms) Inference, (1.5ms) NMS\n",
            "0: 1 Carpet, 2 Ceramic floors, 1 Wooden floor, Done. (1787.9ms) Inference, (1.6ms) NMS\n",
            "0: 1 Carpet, 2 Ceramic floors, 1 Wooden floor, Done. (1813.3ms) Inference, (1.6ms) NMS\n",
            "0: 1 Ceramic floor, 1 Sideboard, 2 TV stands, 1 Window, Done. (1846.1ms) Inference, (1.5ms) NMS\n",
            "0: 1 Ceramic floor, 1 Sideboard, 2 TV stands, 1 Window, Done. (1867.1ms) Inference, (1.7ms) NMS\n",
            "0: 1 Ceramic floor, 1 Sideboard, 1 TV stand, 1 Window, Done. (1877.7ms) Inference, (2.1ms) NMS\n",
            "0: 1 Ceramic floor, 1 Sideboard, 1 TV stand, 1 Window, Done. (1905.3ms) Inference, (1.6ms) NMS\n",
            "0: 2 Ceramic floors, 1 Sideboard, 1 toothbrush, 1 TV stand, 1 Wooden floor, 1 stairs, Done. (1954.6ms) Inference, (2.4ms) NMS\n",
            "0: 2 Ceramic floors, 1 Sideboard, 1 toothbrush, 1 TV stand, 1 Wooden floor, 1 stairs, Done. (1970.5ms) Inference, (1.6ms) NMS\n",
            "0: 1 Carpet, 2 Ceramic floors, 2 TV stands, 1 Wooden floor, Done. (1943.6ms) Inference, (1.6ms) NMS\n",
            "0: 1 Carpet, 2 Ceramic floors, 2 TV stands, 1 Wooden floor, Done. (1795.4ms) Inference, (1.6ms) NMS\n",
            "0: 1 Ceramic floor, 1 Sideboard, 2 TV stands, 1 Wooden floor, Done. (1757.4ms) Inference, (1.5ms) NMS\n",
            "0: 1 Ceramic floor, 1 Sideboard, 2 TV stands, 1 Wooden floor, Done. (1809.3ms) Inference, (1.5ms) NMS\n",
            "0: 1 Ceramic floor, 1 Sideboard, 2 TV stands, 1 Wooden floor, Done. (1824.5ms) Inference, (2.4ms) NMS\n",
            "0: 1 Carpet, 1 Ceramic floor, 1 Sideboard, 1 TV stand, Done. (1864.2ms) Inference, (1.6ms) NMS\n",
            "0: 1 Carpet, 2 Ceramic floors, 1 TV stand, 1 Wooden floor, Done. (1898.3ms) Inference, (2.5ms) NMS\n",
            "0: 1 Carpet, 2 Ceramic floors, 1 TV stand, 1 Wooden floor, Done. (1925.7ms) Inference, (2.4ms) NMS\n",
            "0: 1 Carpet, 2 Ceramic floors, 1 TV stand, 1 Wooden floor, Done. (1942.5ms) Inference, (1.6ms) NMS\n",
            "0: 1 Ceramic floor, 1 Sideboard, 1 TV stand, 1 shower screen, Done. (2158.7ms) Inference, (1.6ms) NMS\n",
            "0: 1 Ceramic floor, 1 Sideboard, 2 TV stands, Done. (2011.9ms) Inference, (1.7ms) NMS\n",
            "0: 1 Ceramic floor, 1 Sideboard, 2 TV stands, Done. (2034.8ms) Inference, (1.7ms) NMS\n",
            "0: 1 Ceramic floor, 1 Sideboard, 2 TV stands, 1 shower screen, Done. (1979.9ms) Inference, (1.6ms) NMS\n",
            "0: 1 Ceramic floor, 1 Sideboard, 2 TV stands, 1 shower screen, Done. (1982.4ms) Inference, (1.6ms) NMS\n",
            "0: 1 Ceramic floor, 1 Sideboard, 1 TV stand, 1 Toilet, 1 shower screen, Done. (1936.8ms) Inference, (2.2ms) NMS\n",
            "0: 1 Ceramic floor, 1 Sideboard, 1 TV stand, 1 Toilet, 1 shower screen, Done. (1936.4ms) Inference, (1.6ms) NMS\n",
            "0: 1 Ceramic floor, 1 Sideboard, 1 TV stand, 1 stairs, Done. (1949.5ms) Inference, (2.1ms) NMS\n",
            "0: 1 Ceramic floor, 1 Sideboard, 1 TV stand, 1 stairs, Done. (1990.3ms) Inference, (1.8ms) NMS\n",
            "0: 1 Ceramic floor, 1 Sideboard, 2 TV stands, 1 shower screen, 1 stairs, Done. (2077.5ms) Inference, (2.0ms) NMS\n",
            "0: 1 Ceramic floor, 1 Sideboard, 2 TV stands, 1 shower screen, 1 stairs, Done. (2022.7ms) Inference, (1.9ms) NMS\n",
            "0: 2 Sideboards, 2 TV stands, 1 stairs, Done. (1936.9ms) Inference, (1.9ms) NMS\n",
            "0: 2 Sideboards, 2 TV stands, 1 stairs, Done. (1956.1ms) Inference, (1.6ms) NMS\n",
            "0: 2 Sideboards, 2 TV stands, Done. (1938.0ms) Inference, (1.9ms) NMS\n",
            "0: 2 Sideboards, 2 TV stands, Done. (2031.4ms) Inference, (2.2ms) NMS\n",
            "0: 1 Ceramic floor, 1 Sideboard, 2 TV stands, Done. (1934.5ms) Inference, (2.1ms) NMS\n",
            "0: 1 Ceramic floor, 1 Sideboard, 2 TV stands, Done. (2017.1ms) Inference, (2.1ms) NMS\n",
            "0: 1 Carpet, 1 Ceramic floor, 1 Sideboard, 1 toothbrush, 1 TV stand, 1 towel, Done. (1906.5ms) Inference, (1.6ms) NMS\n",
            "0: 1 Carpet, 1 Ceramic floor, 1 Sideboard, 1 toothbrush, 1 TV stand, 1 towel, Done. (1868.3ms) Inference, (1.8ms) NMS\n",
            "0: 1 Bed, 1 Ceramic floor, 1 Sideboard, 1 TV stand, Done. (1731.9ms) Inference, (1.6ms) NMS\n",
            "0: 1 Bed, 1 Ceramic floor, 1 Sideboard, 1 TV stand, Done. (1759.4ms) Inference, (1.6ms) NMS\n",
            "0: 1 Carpet, 1 Sideboard, 1 TV stand, 1 Wooden floor, Done. (1728.5ms) Inference, (1.5ms) NMS\n",
            "0: 1 Carpet, 1 Sideboard, 1 TV stand, 1 Wooden floor, Done. (1935.0ms) Inference, (2.3ms) NMS\n",
            "0: 1 Ceramic floor, 1 Sideboard, 1 TV stand, 1 stairs, Done. (1862.1ms) Inference, (2.0ms) NMS\n",
            "0: 1 Ceramic floor, 1 Sideboard, 1 TV stand, 1 stairs, Done. (1761.4ms) Inference, (1.6ms) NMS\n",
            "0: 1 Ceramic floor, 1 Sideboard, 1 TV stand, 1 stairs, Done. (1735.4ms) Inference, (1.6ms) NMS\n",
            "0: 1 Carpet, 1 Ceramic floor, 1 Sideboard, 1 TV stand, 1 Toilet, 1 shower screen, Done. (1776.5ms) Inference, (1.6ms) NMS\n",
            "0: 1 Carpet, 1 Ceramic floor, 1 Sideboard, 1 TV stand, 1 Toilet, 1 shower screen, Done. (1771.2ms) Inference, (1.5ms) NMS\n",
            "0: 1 Carpet, 1 Ceramic floor, 1 Sideboard, 1 TV stand, 1 Toilet, 1 shower screen, Done. (1736.3ms) Inference, (1.9ms) NMS\n",
            "0: 1 Carpet, 1 Ceramic floor, 1 Sideboard, 1 TV stand, 1 Toilet, 1 shower screen, Done. (1739.5ms) Inference, (1.7ms) NMS\n",
            "0: 1 Sideboard, 1 TV stand, Done. (1728.8ms) Inference, (2.3ms) NMS\n",
            "0: 1 Sideboard, 1 TV stand, Done. (1833.6ms) Inference, (1.6ms) NMS\n",
            "0: 1 Carpet, 1 Ceramic floor, 1 Sideboard, 1 toothbrush, 1 TV stand, 2 Toilets, 1 bathtub, 1 faucet, Done. (1743.0ms) Inference, (1.7ms) NMS\n",
            "0: 1 Carpet, 1 Ceramic floor, 1 Sideboard, 1 toothbrush, 1 TV stand, 2 Toilets, 1 bathtub, 1 faucet, Done. (1873.3ms) Inference, (1.7ms) NMS\n",
            "0: 1 Ceramic floor, 1 Sideboard, 1 toothbrush, 1 TV stand, 1 Toilet, 1 bathtub, 1 faucet, 1 towel, 1 towel holder, Done. (1707.0ms) Inference, (1.7ms) NMS\n",
            "0: 1 Ceramic floor, 1 Sideboard, 1 toothbrush, 1 TV stand, 1 Toilet, 1 bathtub, 1 faucet, 1 towel, 1 towel holder, Done. (1783.3ms) Inference, (1.7ms) NMS\n",
            "0: 1 Ceramic floor, 1 Sideboard, 1 toothbrush, 1 TV stand, 1 Toilet, 1 bathtub, 1 faucet, 1 towel, 1 towel holder, Done. (1770.3ms) Inference, (1.8ms) NMS\n",
            "0: 1 Ceramic floor, 1 Sideboard, 2 TV stands, Done. (1720.1ms) Inference, (1.6ms) NMS\n",
            "0: 1 Ceramic floor, 1 Sideboard, 2 TV stands, Done. (1797.7ms) Inference, (2.1ms) NMS\n",
            "0: 2 Carpets, 1 Ceramic floor, 1 Wooden floor, 1 shower screen, 1 stairs, Done. (1752.1ms) Inference, (1.7ms) NMS\n",
            "0: 2 Carpets, 1 Ceramic floor, 1 Wooden floor, 1 shower screen, 1 stairs, Done. (1742.3ms) Inference, (1.6ms) NMS\n",
            "0: 1 Ceramic floor, 1 Sideboard, 2 TV stands, 1 stairs, Done. (1771.8ms) Inference, (1.5ms) NMS\n",
            "0: 1 Ceramic floor, 1 Sideboard, 2 TV stands, 1 stairs, Done. (1779.1ms) Inference, (1.5ms) NMS\n",
            "0: 2 Carpets, 2 Ceramic floors, 1 Sideboard, 1 TV stand, 1 Wooden floor, 1 shoes, Done. (1737.0ms) Inference, (1.9ms) NMS\n",
            "0: 2 Carpets, 2 Ceramic floors, 1 Sideboard, 1 TV stand, 1 Wooden floor, 1 shoes, Done. (1754.1ms) Inference, (1.6ms) NMS\n",
            "0: 2 Carpets, 2 Ceramic floors, 1 Sideboard, 1 TV stand, 1 Wooden floor, 1 shoes, Done. (1989.2ms) Inference, (2.0ms) NMS\n",
            "0: 2 Carpets, 1 Ceramic floor, 1 TV stand, 1 Wooden floor, Done. (1761.0ms) Inference, (1.9ms) NMS\n",
            "0: 2 Carpets, 1 Ceramic floor, 1 TV stand, 1 Wooden floor, Done. (1732.1ms) Inference, (1.5ms) NMS\n",
            "0: 1 Ceramic floor, 1 Sideboard, 2 TV stands, 1 shoes, Done. (1813.7ms) Inference, (1.7ms) NMS\n",
            "0: 1 Ceramic floor, 1 Sideboard, 2 TV stands, 1 shoes, Done. (1769.6ms) Inference, (1.7ms) NMS\n",
            "0: 2 Carpets, 1 Ceramic floor, 1 TV stand, 1 Wooden floor, 1 stairs, Done. (1750.1ms) Inference, (1.9ms) NMS\n",
            "0: 2 Carpets, 1 Ceramic floor, 1 TV stand, 1 Wooden floor, 1 stairs, Done. (1761.9ms) Inference, (2.0ms) NMS\n",
            "0: 1 Ceramic floor, 1 toothbrush, 1 TV stand, 1 Wooden floor, Done. (1736.2ms) Inference, (1.6ms) NMS\n",
            "0: 1 Ceramic floor, 1 toothbrush, 1 TV stand, 1 Wooden floor, Done. (1752.0ms) Inference, (1.8ms) NMS\n",
            "0: 1 Ceramic floor, 1 Sideboard, 2 TV stands, 1 bathtub, 1 faucet, 1 stairs, Done. (1716.7ms) Inference, (2.2ms) NMS\n",
            "0: 1 Ceramic floor, 1 Sideboard, 2 TV stands, 1 bathtub, 1 faucet, 1 stairs, Done. (1732.0ms) Inference, (1.6ms) NMS\n",
            "0: 1 Ceramic floor, 1 Sideboard, 2 TV stands, 1 bathtub, 1 faucet, 1 stairs, Done. (1728.4ms) Inference, (1.6ms) NMS\n",
            "0: 1 Ceramic floor, 1 Sideboard, 2 TV stands, 1 bathtub, 1 faucet, 1 stairs, Done. (1736.9ms) Inference, (1.6ms) NMS\n",
            "0: 1 Ceramic floor, 1 Sideboard, 2 TV stands, 1 bathtub, 1 faucet, 1 stairs, Done. (1776.7ms) Inference, (2.7ms) NMS\n",
            "0: 1 Ceramic floor, 1 Sideboard, 2 TV stands, 1 bathtub, 1 faucet, 1 stairs, Done. (1760.9ms) Inference, (1.6ms) NMS\n",
            "0: 1 Ceramic floor, 1 Sideboard, 2 TV stands, 1 bathtub, 1 faucet, 1 stairs, Done. (1931.3ms) Inference, (1.6ms) NMS\n",
            "0: 1 Ceramic floor, 1 Sideboard, 2 TV stands, 1 bathtub, 1 faucet, 1 stairs, Done. (1730.7ms) Inference, (1.7ms) NMS\n",
            "0: 1 Ceramic floor, 1 Sideboard, 2 TV stands, 1 bathtub, 1 faucet, 1 stairs, Done. (1980.5ms) Inference, (1.6ms) NMS\n",
            "0: 1 Ceramic floor, 1 Sideboard, 2 TV stands, 1 bathtub, 1 faucet, 1 stairs, Done. (1734.8ms) Inference, (1.7ms) NMS\n",
            "0: 1 Ceramic floor, 1 Sideboard, 2 TV stands, 1 bathtub, 1 faucet, 1 stairs, Done. (1859.2ms) Inference, (1.6ms) NMS\n",
            "0: 1 Ceramic floor, 1 Sideboard, 2 TV stands, 1 bathtub, 1 faucet, 1 stairs, Done. (1743.1ms) Inference, (1.8ms) NMS\n",
            "0: 1 Ceramic floor, 1 Sideboard, 1 TV stand, 1 Toilet, 1 bathtub, 1 faucet, Done. (1791.0ms) Inference, (2.2ms) NMS\n",
            "0: 1 Ceramic floor, 1 Sideboard, 1 TV stand, 1 Toilet, 1 bathtub, 1 faucet, Done. (1754.3ms) Inference, (1.8ms) NMS\n",
            "0: 1 Ceramic floor, 1 Sideboard, 1 TV stand, 1 Toilet, 1 bathtub, 1 faucet, Done. (1745.9ms) Inference, (1.6ms) NMS\n",
            "0: 1 Ceramic floor, 1 Sideboard, 1 TV stand, 1 Toilet, 1 bathtub, 1 faucet, Done. (1746.6ms) Inference, (2.1ms) NMS\n",
            "0: 1 Ceramic floor, 1 Sideboard, 1 TV stand, 1 shoes, Done. (1727.9ms) Inference, (1.6ms) NMS\n",
            "0: 1 Ceramic floor, 1 Sideboard, 1 TV stand, 1 shoes, Done. (1757.3ms) Inference, (1.5ms) NMS\n",
            "0: 1 Ceramic floor, 1 Sideboard, 1 TV stand, 1 shoes, Done. (1750.9ms) Inference, (1.6ms) NMS\n",
            "0: 1 Ceramic floor, 1 Sideboard, 1 TV stand, 1 shower screen, Done. (1727.4ms) Inference, (1.7ms) NMS\n",
            "0: 1 Ceramic floor, 1 Sideboard, 1 TV stand, 1 shower screen, Done. (1755.0ms) Inference, (1.6ms) NMS\n",
            "0: 1 Ceramic floor, 1 Sideboard, 2 TV stands, Done. (1904.1ms) Inference, (1.8ms) NMS\n",
            "0: 1 Ceramic floor, 1 Sideboard, 2 TV stands, Done. (1696.9ms) Inference, (1.6ms) NMS\n",
            "0: 1 Carpet, 2 Ceramic floors, 1 TV stand, 1 Wooden floor, Done. (1757.8ms) Inference, (1.6ms) NMS\n",
            "0: 1 Carpet, 2 Ceramic floors, 1 TV stand, 1 Wooden floor, Done. (1741.2ms) Inference, (1.6ms) NMS\n",
            "0: 1 Ceramic floor, 1 Sideboard, 2 TV stands, 1 Wooden floor, 1 faucet, Done. (1748.1ms) Inference, (1.6ms) NMS\n",
            "0: 1 Ceramic floor, 1 Sideboard, 2 TV stands, 1 Wooden floor, 1 faucet, Done. (1752.7ms) Inference, (1.6ms) NMS\n",
            "0: 1 Ceramic floor, 1 Sideboard, 2 TV stands, 1 Wooden floor, 1 faucet, Done. (1731.4ms) Inference, (1.6ms) NMS\n",
            "0: 1 Carpet, 2 Ceramic floors, 2 TV stands, 1 Wooden floor, Done. (1762.5ms) Inference, (1.6ms) NMS\n",
            "0: 1 Carpet, 2 Ceramic floors, 2 TV stands, 1 Wooden floor, Done. (1740.1ms) Inference, (1.6ms) NMS\n",
            "0: 1 Carpet, 2 Ceramic floors, 1 Sideboard, 2 TV stands, 2 Toilets, 1 Wooden floor, 1 bathtub, Done. (1745.3ms) Inference, (2.0ms) NMS\n",
            "0: 1 Carpet, 2 Ceramic floors, 1 Sideboard, 2 TV stands, 2 Toilets, 1 Wooden floor, 1 bathtub, Done. (1738.8ms) Inference, (1.5ms) NMS\n",
            "0: 1 Carpet, 2 Ceramic floors, 1 Sideboard, 2 TV stands, 2 Toilets, 1 Wooden floor, 1 bathtub, Done. (1750.7ms) Inference, (2.0ms) NMS\n",
            "0: 1 Carpet, 2 Ceramic floors, 1 TV stand, 1 Wooden floor, Done. (1735.7ms) Inference, (1.6ms) NMS\n",
            "0: 1 Carpet, 1 Ceramic floor, 1 Sideboard, 2 TV stands, 1 Wooden floor, 1 stairs, Done. (1734.1ms) Inference, (1.5ms) NMS\n",
            "0: 1 Carpet, 1 Ceramic floor, 1 Sideboard, 2 TV stands, 1 Wooden floor, 1 stairs, Done. (1834.6ms) Inference, (1.6ms) NMS\n",
            "0: 1 Carpet, 1 Ceramic floor, 2 TV stands, 1 stairs, Done. (1717.2ms) Inference, (1.6ms) NMS\n",
            "0: 1 Carpet, 1 Ceramic floor, 2 TV stands, 1 stairs, Done. (1757.6ms) Inference, (1.5ms) NMS\n",
            "0: 1 Carpet, 1 Ceramic floor, 2 TV stands, 1 stairs, Done. (1740.5ms) Inference, (1.8ms) NMS\n",
            "0: 1 Carpet, 1 Ceramic floor, 2 TV stands, 1 Wooden floor, 1 stairs, Done. (1807.5ms) Inference, (2.3ms) NMS\n",
            "0: 1 Carpet, 1 Ceramic floor, 2 TV stands, 1 Wooden floor, 1 stairs, Done. (2409.1ms) Inference, (1.6ms) NMS\n",
            "0: 1 Carpet, 1 Ceramic floor, 1 Sideboard, 2 TV stands, 1 Wooden floor, 1 stairs, Done. (2334.9ms) Inference, (2.5ms) NMS\n",
            "0: 1 Carpet, 1 Ceramic floor, 2 TV stands, 1 Wooden floor, 1 stairs, Done. (2868.8ms) Inference, (2.5ms) NMS\n",
            "^C\n"
          ]
        }
      ],
      "source": [
        "!python detect.py --weights /Users/raseel/Downloads/7/yolov7-BAASYIR.pt --conf 0.05 --img-size 640 --source http://192.168.100.41:8081 --device cpu"
      ]
    }
  ],
  "metadata": {
    "accelerator": "GPU",
    "colab": {
      "gpuType": "T4",
      "machine_shape": "hm",
      "provenance": []
    },
    "kernelspec": {
      "display_name": "Python 3",
      "name": "python3"
    },
    "language_info": {
      "codemirror_mode": {
        "name": "ipython",
        "version": 3
      },
      "file_extension": ".py",
      "mimetype": "text/x-python",
      "name": "python",
      "nbconvert_exporter": "python",
      "pygments_lexer": "ipython3",
      "version": "3.11.0"
    }
  },
  "nbformat": 4,
  "nbformat_minor": 0
}
